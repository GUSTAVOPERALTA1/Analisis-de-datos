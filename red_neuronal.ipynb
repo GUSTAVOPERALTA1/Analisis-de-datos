{
  "nbformat": 4,
  "nbformat_minor": 0,
  "metadata": {
    "colab": {
      "provenance": [],
      "gpuType": "T4",
      "authorship_tag": "ABX9TyOulmNCVS+joplCWM8xZdni",
      "include_colab_link": true
    },
    "kernelspec": {
      "name": "python3",
      "display_name": "Python 3"
    },
    "language_info": {
      "name": "python"
    },
    "accelerator": "GPU",
    "gpuClass": "standard"
  },
  "cells": [
    {
      "cell_type": "markdown",
      "metadata": {
        "id": "view-in-github",
        "colab_type": "text"
      },
      "source": [
        "<a href=\"https://colab.research.google.com/github/GUSTAVOPERALTA1/Analisis-de-datos/blob/main/red_neuronal.ipynb\" target=\"_parent\"><img src=\"https://colab.research.google.com/assets/colab-badge.svg\" alt=\"Open In Colab\"/></a>"
      ]
    },
    {
      "cell_type": "markdown",
      "source": [
        "Tensorflow y Python"
      ],
      "metadata": {
        "id": "X8RmT8PbNsCS"
      }
    },
    {
      "cell_type": "code",
      "execution_count": 2,
      "metadata": {
        "id": "cqSiaz2NHd5k"
      },
      "outputs": [],
      "source": [
        "import tensorflow as tf\n",
        "import numpy as np"
      ]
    },
    {
      "cell_type": "code",
      "source": [
        "celsius = np.array([-40, -10, 0, 8, 15, 22, 30, 36, 40, 42], dtype= float)\n",
        "fahrenheit = np.array([-40, 14, 32, 46, 59, 72, 86, 97, 104, 107], dtype= float)"
      ],
      "metadata": {
        "id": "esOGw_3BHrub"
      },
      "execution_count": 42,
      "outputs": []
    },
    {
      "cell_type": "markdown",
      "source": [
        "Neuronas"
      ],
      "metadata": {
        "id": "Q83SJw6sN28s"
      }
    },
    {
      "cell_type": "code",
      "source": [
        "#capa = tf.keras.layers.Dense(units= 1, input_shape= [1])\n",
        "#modelo = tf.keras.Sequential([capa])\n",
        "\n",
        "oculta1 = tf.keras.layers.Dense(units = 3, input_shape = [1])\n",
        "oculta2 = tf.keras.layers.Dense(units = 3)\n",
        "oculta3 = tf.keras.layers.Dense(units = 3)\n",
        "salida  = tf.keras.layers.Dense(units = 1)\n",
        "modelo = tf.keras.Sequential([oculta1, oculta2, salida])"
      ],
      "metadata": {
        "id": "-J5mcpAVIJkR"
      },
      "execution_count": 43,
      "outputs": []
    },
    {
      "cell_type": "code",
      "source": [
        "modelo.compile(\n",
        "    optimizer = tf.keras.optimizers.Adam(0.1),\n",
        "    loss = \"mean_squared_error\"\n",
        ")"
      ],
      "metadata": {
        "id": "dQCNF7l9IWlR"
      },
      "execution_count": 44,
      "outputs": []
    },
    {
      "cell_type": "code",
      "source": [
        "print(\"Comenzando entrenamiento...\")\n",
        "historial = modelo.fit(celsius, fahrenheit, epochs = 1000, verbose= False)\n",
        "print(\"Modelo entrenado\")"
      ],
      "metadata": {
        "colab": {
          "base_uri": "https://localhost:8080/"
        },
        "id": "wClc_1zFIiU4",
        "outputId": "affc1086-ed41-40aa-a21a-1801b935ef78"
      },
      "execution_count": 45,
      "outputs": [
        {
          "output_type": "stream",
          "name": "stdout",
          "text": [
            "Comenzando entrenamiento...\n",
            "Modelo entrenado\n"
          ]
        }
      ]
    },
    {
      "cell_type": "code",
      "source": [
        "import matplotlib.pyplot as plt\n",
        "plt.xlabel(\"# Epoca\")\n",
        "plt.ylabel(\"Magnitud de pérdida\")\n",
        "plt.plot(historial.history[\"loss\"])"
      ],
      "metadata": {
        "colab": {
          "base_uri": "https://localhost:8080/",
          "height": 466
        },
        "id": "4XC4-EzbJ2Qq",
        "outputId": "154e45f8-8d42-483b-f2d5-b43a44f05f13"
      },
      "execution_count": 46,
      "outputs": [
        {
          "output_type": "execute_result",
          "data": {
            "text/plain": [
              "[<matplotlib.lines.Line2D at 0x7f7ccc4620e0>]"
            ]
          },
          "metadata": {},
          "execution_count": 46
        },
        {
          "output_type": "display_data",
          "data": {
            "text/plain": [
              "<Figure size 640x480 with 1 Axes>"
            ],
            "image/png": "[encoded data removed]"
          },
          "metadata": {}
        }
      ]
    },
    {
      "cell_type": "code",
      "source": [
        "print(\"Predicción\")\n",
        "resultado = modelo.predict([10.0])\n",
        "print(\"El resultado es \" + str(resultado) + \"fahrenheit\")"
      ],
      "metadata": {
        "colab": {
          "base_uri": "https://localhost:8080/"
        },
        "id": "UUG5OrILKQEH",
        "outputId": "6b6abd7e-6cc0-41d8-d16c-8e4046b66a9c"
      },
      "execution_count": 47,
      "outputs": [
        {
          "output_type": "stream",
          "name": "stderr",
          "text": [
            "WARNING:tensorflow:6 out of the last 9 calls to <function Model.make_predict_function.<locals>.predict_function at 0x7f7ccc478ca0> triggered tf.function retracing. Tracing is expensive and the excessive number of tracings could be due to (1) creating @tf.function repeatedly in a loop, (2) passing tensors with different shapes, (3) passing Python objects instead of tensors. For (1), please define your @tf.function outside of the loop. For (2), @tf.function has reduce_retracing=True option that can avoid unnecessary retracing. For (3), please refer to https://www.tensorflow.org/guide/function#controlling_retracing and https://www.tensorflow.org/api_docs/python/tf/function for  more details.\n"
          ]
        },
        {
          "output_type": "stream",
          "name": "stdout",
          "text": [
            "Predicción\n",
            "1/1 [==============================] - 0s 61ms/step\n",
            "El resultado es [[49.9648]]fahrenheit\n"
          ]
        }
      ]
    },
    {
      "cell_type": "markdown",
      "source": [],
      "metadata": {
        "id": "p60R4yB6Nq8a"
      }
    },
    {
      "cell_type": "code",
      "source": [
        "print(\"Variables internas del  modelo\")\n",
        "#print(capa.get_weights())\n",
        "print(oculta1.get_weights())\n",
        "print(oculta2.get_weights())\n",
        "print(oculta3.get_weights())\n",
        "print(salida.get_weights())"
      ],
      "metadata": {
        "colab": {
          "base_uri": "https://localhost:8080/"
        },
        "id": "dkuKzJHSKwLX",
        "outputId": "4f61d433-7fd8-4206-d445-f6310f954d4b"
      },
      "execution_count": 20,
      "outputs": [
        {
          "output_type": "stream",
          "name": "stdout",
          "text": [
            "Variables internas del  modelo\n",
            "[array([[-0.33914536,  0.22426313, -0.358168  ]], dtype=float32), array([-3.8067262,  3.6785882, -3.7331386], dtype=float32)]\n",
            "[array([[-0.43798327,  1.424881  , -0.33599088],\n",
            "       [ 0.07455173, -0.43305132,  1.1729059 ],\n",
            "       [ 1.0210325 ,  0.9213927 , -1.3798553 ]], dtype=float32), array([-3.2514098, -3.9243991,  3.9141183], dtype=float32)]\n",
            "[array([[-0.5990793],\n",
            "       [-1.0187367],\n",
            "       [ 0.9901245]], dtype=float32), array([3.55661], dtype=float32)]\n"
          ]
        }
      ]
    }
  ]
}